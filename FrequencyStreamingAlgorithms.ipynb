{
  "nbformat": 4,
  "nbformat_minor": 0,
  "metadata": {
    "colab": {
      "provenance": [],
      "authorship_tag": "ABX9TyMWtN/Bl1JZq0DnC4MG/3Ji",
      "include_colab_link": true
    },
    "kernelspec": {
      "name": "python3",
      "display_name": "Python 3"
    },
    "language_info": {
      "name": "python"
    }
  },
  "cells": [
    {
      "cell_type": "markdown",
      "metadata": {
        "id": "view-in-github",
        "colab_type": "text"
      },
      "source": [
        "<a href=\"https://colab.research.google.com/github/kevinmatsui/FrequencyStreamingAlg/blob/main/FrequencyStreamingAlgorithms.ipynb\" target=\"_parent\"><img src=\"https://colab.research.google.com/assets/colab-badge.svg\" alt=\"Open In Colab\"/></a>"
      ]
    },
    {
      "cell_type": "markdown",
      "source": [
        "Using Misa Gries and Count-Min Sketch Streaming Algorithms to Count Frequency of Characters in File\n"
      ],
      "metadata": {
        "id": "yi6-3GzkZgVX"
      }
    },
    {
      "cell_type": "code",
      "execution_count": null,
      "metadata": {
        "colab": {
          "base_uri": "https://localhost:8080/"
        },
        "id": "H1t10Q3OCEeZ",
        "outputId": "ec3106ca-d4df-4a66-d071-949226c1f89f"
      },
      "outputs": [
        {
          "output_type": "stream",
          "name": "stdout",
          "text": [
            "[0, 710525, 1911225, 0, 0, 0, 311750, 0, 0, 0, 0]\n",
            "['t', 'b', 'a', 'h', 'j', 's', 'c', 'u', 'f', 'i', 'o']\n"
          ]
        }
      ],
      "source": [
        "file = open('S2.txt', 'r')\n",
        "\n",
        "\n",
        "c = [0]*11\n",
        "l = ['']*11\n",
        "while 1:\n",
        "     \n",
        "    # read by character\n",
        "    char = file.read(1)         \n",
        "    if not char:\n",
        "        break\n",
        "    if char in l:\n",
        "         j = l.index(char)\n",
        "         c[j] += 1\n",
        "    else:\n",
        "      if 0 in c:\n",
        "        j = c.index(0)\n",
        "        l[j] = char\n",
        "        c[j] = 1\n",
        "      else:\n",
        "        c = [x - 1 for x in c]\n",
        "\n",
        "\n",
        "\n",
        "print(c)\n",
        "print(l)\n",
        "file.close()"
      ]
    },
    {
      "cell_type": "markdown",
      "source": [
        "Hash functions Used"
      ],
      "metadata": {
        "id": "_lGxjjjeaGxW"
      }
    },
    {
      "cell_type": "code",
      "source": [
        "def hashit0(x):\n",
        "  return (((3*x+6)%173)%12)\n",
        "  \n",
        "def hashit1(x):\n",
        "  return (((16*x+74)%173)%12)\n",
        "\n",
        "def hashit2(x):\n",
        "  return (((33*x+16)%173)%12)\n",
        "  \n",
        "def hashit3(x):\n",
        "  return (((25*x+89)%173)%12)\n",
        "\n",
        "def hashit4(x):\n",
        "  return (((17*x+23)%173)%12)\n",
        "\n",
        "def hashit5(x):\n",
        "  return (((8*x+4)%173)%12)"
      ],
      "metadata": {
        "id": "MD7SMa4Wo21y"
      },
      "execution_count": null,
      "outputs": []
    },
    {
      "cell_type": "markdown",
      "source": [
        "Returns the minimum frequency list\n"
      ],
      "metadata": {
        "id": "rVDd0_skaKfz"
      }
    },
    {
      "cell_type": "code",
      "source": [
        "def minfreq(c, char):\n",
        "  lister = []\n",
        "  lister.append(c[0][hashit0(ord(char))])\n",
        "  lister.append(c[1][hashit1(ord(char))])\n",
        "  lister.append(c[2][hashit2(ord(char))])\n",
        "  lister.append(c[3][hashit3(ord(char))])\n",
        "  lister.append(c[4][hashit4(ord(char))])\n",
        "  lister.append(c[5][hashit5(ord(char))])\n",
        "  return min(lister)"
      ],
      "metadata": {
        "id": "gdMM-4Le-0ls"
      },
      "execution_count": null,
      "outputs": []
    },
    {
      "cell_type": "code",
      "source": [
        "c = []\n",
        "for i in range(6):\n",
        "    c.append([0] * 12)\n",
        "\n",
        "\n",
        "\n",
        "file = open('S2.txt', 'r')\n",
        "\n",
        "while 1:\n",
        "     \n",
        "    # read by character\n",
        "    char = file.read(1)         \n",
        "    if not char:\n",
        "        break\n",
        "\n",
        "    j = hashit0(ord(char))\n",
        "    c[0][j] +=1\n",
        "    j = hashit1(ord(char))\n",
        "    c[1][j] +=1\n",
        "    j = hashit2( ord(char))\n",
        "    c[2][j] +=1\n",
        "    j = hashit3( ord(char))\n",
        "    c[3][j] +=1\n",
        "    j = hashit4( ord(char))\n",
        "    c[4][j] +=1\n",
        "    j = hashit5(ord(char))\n",
        "    c[5][j] +=1\n",
        "\n",
        "\n",
        "print(\"a :\" + str(minfreq(c, 'a')))\n",
        "print(\"b :\" + str(minfreq(c, 'b')))\n",
        "print(\"c :\" + str(minfreq(c, 'c')))\n",
        "print(\"d :\" + str(minfreq(c, 'd')))\n",
        "print(\"e :\" + str(minfreq(c, 'e')))\n",
        "print(\"f :\" + str(minfreq(c, 'f')))\n",
        "print(\"g :\" + str(minfreq(c, 'g')))\n",
        "print(\"h :\" + str(minfreq(c, 'h')))\n",
        "print(\"i :\" + str(minfreq(c, 'i')))\n",
        "print(\"j :\" + str(minfreq(c, 'j')))\n",
        "print(\"k :\" + str(minfreq(c, 'k')))\n",
        "print(\"l :\" + str(minfreq(c, 'l')))\n",
        "print(\"m :\" + str(minfreq(c, 'm')))\n",
        "print(\"n :\" + str(minfreq(c, 'n')))\n",
        "print(\"o :\" + str(minfreq(c, 'o')))\n",
        "print(\"p :\" + str(minfreq(c, 'p')))\n",
        "print(\"q :\" + str(minfreq(c, 'q')))\n",
        "print(\"r :\" + str(minfreq(c, 'r')))\n",
        "print(\"s :\" + str(minfreq(c, 's')))\n",
        "print(\"t :\" + str(minfreq(c, 't')))\n",
        "print(\"u :\" + str(minfreq(c, 'u')))\n",
        "print(\"v :\" + str(minfreq(c, 'v')))\n",
        "print(\"w :\" + str(minfreq(c, 'w')))\n",
        "print(\"x :\" + str(minfreq(c, 'x')))\n",
        "print(\"y :\" + str(minfreq(c, 'y')))\n",
        "print(\"z :\" + str(minfreq(c, 'z')))\n",
        "\n",
        "file.close()"
      ],
      "metadata": {
        "colab": {
          "base_uri": "https://localhost:8080/"
        },
        "id": "ZmBcTwH7u6Bk",
        "outputId": "3dca1348-63af-4519-f462-18d5a29aa9c5"
      },
      "execution_count": null,
      "outputs": [
        {
          "output_type": "stream",
          "name": "stdout",
          "text": [
            "a :2039851\n",
            "b :839045\n",
            "c :440270\n",
            "d :120158\n",
            "e :40072\n",
            "f :80095\n",
            "g :79713\n",
            "h :79924\n",
            "i :80142\n",
            "j :40001\n",
            "k :39710\n",
            "l :40377\n",
            "m :39926\n",
            "n :159445\n",
            "o :40081\n",
            "p :119427\n",
            "q :79668\n",
            "r :79843\n",
            "s :79999\n",
            "t :40113\n",
            "u :39966\n",
            "v :79668\n",
            "w :79820\n",
            "x :0\n",
            "y :39710\n",
            "z :39710\n"
          ]
        }
      ]
    }
  ]
}